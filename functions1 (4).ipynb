{
  "nbformat": 4,
  "nbformat_minor": 0,
  "metadata": {
    "colab": {
      "provenance": []
    },
    "kernelspec": {
      "name": "python3",
      "display_name": "Python 3"
    },
    "language_info": {
      "name": "python"
    }
  },
  "cells": [
    {
      "cell_type": "code",
      "execution_count": null,
      "metadata": {
        "id": "yqMUCYl3Wy0o"
      },
      "outputs": [],
      "source": []
    },
    {
      "cell_type": "markdown",
      "source": [
        "1. What is the difference between a function and a method in Python?\n",
        "\n",
        "function:\n",
        "\n",
        "-A function is a block of code that is defined to perform a specific task, and it can be called independently. It is not tied to any particular object or class. Functions are typically defined using the def keyword.\n"
      ],
      "metadata": {
        "id": "c-J25XQrW6-b"
      }
    },
    {
      "cell_type": "code",
      "source": [
        "# example of function\n",
        "def greet(name):\n",
        "    return f\"Hello, {name}!\"\n",
        "print(greet(\"Alice\"))\n"
      ],
      "metadata": {
        "colab": {
          "base_uri": "https://localhost:8080/"
        },
        "id": "fsRAOTO-HZOW",
        "outputId": "146a466a-995a-4630-defd-2f9e4e28f8eb"
      },
      "execution_count": null,
      "outputs": [
        {
          "output_type": "stream",
          "name": "stdout",
          "text": [
            "Hello, Alice!\n"
          ]
        }
      ]
    },
    {
      "cell_type": "markdown",
      "source": [
        "- Method\n",
        "\n",
        "A method is a function that is associated with an object (typically an instance of a class). Methods are defined inside a class, and they can operate on the data contained within the object (instance) they belong to. The first argument of a method is always self, which refers to the current object or instance of the class."
      ],
      "metadata": {
        "id": "3ZruEQhPHwGu"
      }
    },
    {
      "cell_type": "code",
      "source": [
        "#example of method\n",
        "class Person:\n",
        "    def __init__(self, name):\n",
        "        self.name = name\n",
        "\n",
        "    def greet(self):\n",
        "        return f\"Hello, {self.name}!\"\n",
        "\n"
      ],
      "metadata": {
        "id": "Lh9ppRarHqQa"
      },
      "execution_count": null,
      "outputs": []
    },
    {
      "cell_type": "code",
      "source": [
        "p = Person(\"Alice\")\n",
        "print(p.greet())"
      ],
      "metadata": {
        "colab": {
          "base_uri": "https://localhost:8080/"
        },
        "id": "I1TwZ-HrIrdt",
        "outputId": "695304fb-00ca-450b-9213-9d89e8e82ddb"
      },
      "execution_count": null,
      "outputs": [
        {
          "output_type": "stream",
          "name": "stdout",
          "text": [
            "Hello, Alice!\n"
          ]
        }
      ]
    },
    {
      "cell_type": "markdown",
      "source": [
        " 2. Explain the concept of function arguments and parameters in Python\n",
        "\n",
        "- Function Parameters\n",
        "\n",
        "Parameters are the variables that are defined in the function's signature. They act as placeholders for the values that will be passed to the function when it is called. Parameters appear inside the parentheses in the function definition."
      ],
      "metadata": {
        "id": "S5rxPmpCI1qx"
      }
    },
    {
      "cell_type": "code",
      "source": [
        "#example of function parameter\n",
        "def greet(name, age):\n",
        "    print(f\"Hello {name}, you are {age} years old.\")\n"
      ],
      "metadata": {
        "id": "swdAUVUbJPN5"
      },
      "execution_count": null,
      "outputs": []
    },
    {
      "cell_type": "markdown",
      "source": [
        "-function Arguments\n",
        "\n",
        "Arguments are the actual values or data passed into the function when it is called. These values are assigned to the corresponding parameters defined in the function. Arguments appear in the function call."
      ],
      "metadata": {
        "id": "HDyyjnDeJaUe"
      }
    },
    {
      "cell_type": "code",
      "source": [
        "#example of function argument\n",
        "greet(\"Alice\", 30)\n"
      ],
      "metadata": {
        "colab": {
          "base_uri": "https://localhost:8080/"
        },
        "id": "Mv5P2txwJkKE",
        "outputId": "c672dd5d-a4bb-428a-c5b6-ab826090c96d"
      },
      "execution_count": null,
      "outputs": [
        {
          "output_type": "stream",
          "name": "stdout",
          "text": [
            "Hello Alice, you are 30 years old.\n"
          ]
        }
      ]
    },
    {
      "cell_type": "markdown",
      "source": [
        " 3. What are the different ways to define and call a function in Python\n",
        "\n",
        "-Simple Function – Define a function using def and call it directly.\n",
        "\n",
        "-Function with Return Values – Use return to return values from the function.\n",
        "\n",
        "-Function with Default Parameters – Set default values for parameters.\n",
        "\n",
        "-Keyword Arguments – Call the function using the parameter names.\n",
        "\n",
        "-Variable-Length Arguments – Use *args and **kwargs to handle an arbitrary number of arguments.\n",
        "\n",
        "-Lambda Functions – Define small, anonymous functions with the lambda keyword.\n",
        "\n",
        "-Nested Functions – Define a function inside another function.\n",
        "\n",
        "-Recursive Functions – Functions that call themselves to solve problems."
      ],
      "metadata": {
        "id": "HHkiKERDJ2pq"
      }
    },
    {
      "cell_type": "code",
      "source": [
        "#example\n",
        "# 1. Simple Function\n",
        "def greet(name):\n",
        "    print(f\"Hello, {name}!\")\n",
        "\n",
        "# 2. Function with Return Values\n",
        "def add(a, b):\n",
        "    return a + b\n",
        "\n",
        "# 3. Function with Default Parameters\n",
        "def greet_with_default(name, greeting=\"Hello\"):\n",
        "    print(f\"{greeting}, {name}!\")\n",
        "\n",
        "# 4. Keyword Arguments\n",
        "def introduce(name, age):\n",
        "    print(f\"Hi, I'm {name}, and I am {age} years old.\")\n",
        "\n",
        "# 5. Variable-Length Arguments (*args and **kwargs)\n",
        "def print_numbers(*args):\n",
        "    print(\"Numbers:\", *args)\n",
        "\n",
        "def print_info(**kwargs):\n",
        "    for key, value in kwargs.items():\n",
        "        print(f\"{key}: {value}\")\n",
        "\n",
        "# 6. Lambda Function (Anonymous Function)\n",
        "multiply = lambda x, y: x * y\n",
        "\n",
        "# 7. Nested Function\n",
        "def outer_function():\n",
        "    def inner_function():\n",
        "        print(\"This is the inner function.\")\n",
        "    inner_function()\n",
        "\n",
        "# 8. Recursive Function\n",
        "def factorial(n):\n",
        "    if n == 0:\n",
        "        return 1\n",
        "    else:\n",
        "        return n * factorial(n - 1)\n",
        "\n",
        "\n",
        "# Function Calls\n",
        "# 1. Calling Simple Function\n",
        "greet(\"Alice\")\n",
        "\n",
        "# 2. Calling Function with Return Value\n",
        "result = add(5, 3)\n",
        "print(f\"Addition Result: {result}\")\n",
        "\n",
        "# 3. Calling Function with Default Parameters\n",
        "greet_with_default(\"Bob\")\n",
        "greet_with_default(\"Charlie\", \"Good morning\")\n",
        "\n",
        "# 4. Calling Function with Keyword Arguments\n",
        "introduce(name=\"Alice\", age=25)\n",
        "\n",
        "# 5. Calling Function with *args\n",
        "print_numbers(1, 2, 3, 4, 5)\n",
        "\n",
        "# 6. Calling Function with **kwargs\n",
        "print_info(name=\"Alice\", age=25, city=\"New York\")\n",
        "\n",
        "# 7. Calling Lambda Function\n",
        "product = multiply(4, 5)\n",
        "print(f\"Product from lambda: {product}\")\n",
        "\n",
        "# 8. Calling Recursive Function\n",
        "result_factorial = factorial(5)\n",
        "print(f\"Factorial of 5: {result_factorial}\")\n",
        "\n",
        "# 9. Calling Nested Function\n",
        "outer_function()\n"
      ],
      "metadata": {
        "colab": {
          "base_uri": "https://localhost:8080/"
        },
        "id": "Iy6OatsJLMGv",
        "outputId": "a5273982-93da-43f5-ebe2-a6bbfc9f95dd"
      },
      "execution_count": null,
      "outputs": [
        {
          "output_type": "stream",
          "name": "stdout",
          "text": [
            "Hello, Alice!\n",
            "Addition Result: 8\n",
            "Hello, Bob!\n",
            "Good morning, Charlie!\n",
            "Hi, I'm Alice, and I am 25 years old.\n",
            "Numbers: 1 2 3 4 5\n",
            "name: Alice\n",
            "age: 25\n",
            "city: New York\n",
            "Product from lambda: 20\n",
            "Factorial of 5: 120\n",
            "This is the inner function.\n"
          ]
        }
      ]
    },
    {
      "cell_type": "markdown",
      "source": [
        " 4. What is the purpose of the `return` statement in a Python function\n",
        "\n",
        "-Returns a value from a function to the caller.\n",
        "\n",
        "-Exits the function early, stopping further code execution in the function.\n",
        "\n",
        "-Returns None by default if no return value is provided\n",
        "Can be used to return multiple values as tuples, lists, or dictionaries.\n",
        "\n",
        "-Enables returning functions for more advanced programming techniques.\n",
        "\n",
        "\n",
        "\n"
      ],
      "metadata": {
        "id": "OpZItMSzL036"
      }
    },
    {
      "cell_type": "code",
      "source": [
        "#example\n",
        "# 1. Returning a Value to the Caller\n",
        "def add(a, b):\n",
        "    return a + b  # Returns the sum of a and b\n",
        "\n",
        "result = add(5, 3)  # Calls the function and stores the returned value\n",
        "print(f\"Sum: {result}\")  # Output: Sum: 8\n",
        "\n",
        "\n",
        "# 2. Exiting the Function Early\n",
        "def check_number(num):\n",
        "    if num < 0:\n",
        "        return \"Negative number\"  # Exits the function early if the number is negative\n",
        "    return \"Positive number\"  # This line is skipped if the number is negative\n",
        "\n",
        "print(check_number(-5))  # Output: Negative number\n",
        "print(check_number(10))  # Output: Positive number\n",
        "\n",
        "\n",
        "# 3. Returning None by Default (when no return statement is used)\n",
        "def say_hello(name):\n",
        "    print(f\"Hello, {name}!\")\n",
        "\n",
        "result = say_hello(\"Alice\")  # This function doesn't return anything\n",
        "print(f\"Returned value: {result}\")  # Output: Returned value: None\n",
        "\n",
        "\n",
        "# 4. Returning Multiple Values (as a Tuple)\n",
        "def get_coordinates():\n",
        "    x = 10\n",
        "    y = 20\n",
        "    return x, y  # Returns two values as a tuple\n",
        "\n",
        "coordinates = get_coordinates()  # Gets the tuple\n",
        "print(f\"Coordinates: {coordinates}\")  # Output: Coordinates: (10, 20)\n",
        "\n",
        "# Unpacking the returned tuple\n",
        "x_val, y_val = get_coordinates()\n",
        "print(f\"x: {x_val}, y: {y_val}\")  # Output: x: 10, y: 20\n",
        "\n",
        "\n",
        "# 5. Returning Functions (Higher-Order Function)\n",
        "def multiplier(factor):\n",
        "    def multiply(x):\n",
        "        return x * factor\n",
        "    return multiply  # Returning the multiply function\n",
        "\n",
        "double = multiplier(2)  # `double` is now a function that multiplies by 2\n",
        "result = double(4)  # Calling the returned function\n",
        "print(f\"Double of 4: {result}\")  # Output: Double of 4: 8\n"
      ],
      "metadata": {
        "colab": {
          "base_uri": "https://localhost:8080/"
        },
        "id": "IGpbw1djMcaK",
        "outputId": "d27e4cad-cc12-4e01-9201-d0fe513a6a7a"
      },
      "execution_count": null,
      "outputs": [
        {
          "output_type": "stream",
          "name": "stdout",
          "text": [
            "Sum: 8\n",
            "Negative number\n",
            "Positive number\n",
            "Hello, Alice!\n",
            "Returned value: None\n",
            "Coordinates: (10, 20)\n",
            "x: 10, y: 20\n",
            "Double of 4: 8\n"
          ]
        }
      ]
    },
    {
      "cell_type": "markdown",
      "source": [
        "5. What are iterators in Python and how do they differ from iterables\n",
        "\n",
        "Iterable: An object that can be looped over (e.g., lists, strings, tuples). It is not an iterator itself but can create an iterator via the iter() method.\n",
        "\n",
        "Iterator: An object that performs the actual iteration over the elements of an iterable. It knows its state (current position) and uses next() to get the next element\n",
        "\n",
        "-In short, an iterable is any object that can be turned into an iterator (using iter()), and the iterator is the object that keeps track of the current iteration state and provides the elements."
      ],
      "metadata": {
        "id": "kI6xJFHHMzQ_"
      }
    },
    {
      "cell_type": "code",
      "source": [
        "# Creating an Iterable (a list)\n",
        "my_list = [1, 2, 3]\n",
        "\n",
        "# 1. Using an Iterable directly in a for-loop:\n",
        "print(\"Iterating over the iterable directly (for-loop):\")\n",
        "for item in my_list:  # my_list is an iterable\n",
        "    print(item)\n",
        "\n",
        "print(\"\\n---\")\n",
        "\n",
        "# 2. Creating an Iterator from the Iterable:\n",
        "my_iterator = iter(my_list)  # `iter()` converts the iterable into an iterator\n",
        "\n",
        "# 3. Using the Iterator with `next()`:\n",
        "print(\"Manually iterating using the iterator and next():\")\n",
        "print(next(my_iterator))  # Output: 1\n",
        "print(next(my_iterator))  # Output: 2\n",
        "print(next(my_iterator))  # Output: 3\n",
        "\n",
        "# 4. Attempting to call `next()` after the iterator is exhausted:\n",
        "# This will raise StopIteration\n",
        "try:\n",
        "    print(next(my_iterator))  # This will raise StopIteration\n",
        "except StopIteration:\n",
        "    print(\"StopIteration raised, iterator is exhausted.\")\n"
      ],
      "metadata": {
        "colab": {
          "base_uri": "https://localhost:8080/"
        },
        "id": "gb5AGrOUN-u5",
        "outputId": "067444bf-cbb4-4fe1-bbbe-df3c93a07c20"
      },
      "execution_count": null,
      "outputs": [
        {
          "output_type": "stream",
          "name": "stdout",
          "text": [
            "Iterating over the iterable directly (for-loop):\n",
            "1\n",
            "2\n",
            "3\n",
            "\n",
            "---\n",
            "Manually iterating using the iterator and next():\n",
            "1\n",
            "2\n",
            "3\n",
            "StopIteration raised, iterator is exhausted.\n"
          ]
        }
      ]
    },
    {
      "cell_type": "markdown",
      "source": [
        "6. Explain the concept of generators in Python and how they are defined\n",
        "\n",
        "-a generator is a special type of iterator that allows you to iterate over a sequence of values without storing them all at once in memory. Generators are lazy, meaning they generate items one at a time and only when requested. This makes them particularly useful when working with large datasets or when memory efficiency is important.\n",
        "\n",
        "-1. Generator Function with yield\n",
        "\n",
        "A generator function is defined like a normal function, but it uses the yield keyword instead of return. The yield statement sends a value back to the caller and pauses the function, saving its state. The function can then be resumed when the next item is requested.\n",
        "\n",
        "-2. Generator Expressions\n",
        "A generator expression is a compact and concise way to create a generator. It’s similar to a list comprehension but uses () instead of []\n"
      ],
      "metadata": {
        "id": "hpHcSN55OLHr"
      }
    },
    {
      "cell_type": "code",
      "source": [
        "# 1. Generator function with `yield`\n",
        "def generate_squares(n):\n",
        "    for i in range(n):\n",
        "        yield i * i  # Yield square numbers\n",
        "\n",
        "# 2. Generator expression\n",
        "squares_gen_expr = (x * x for x in range(1, 6))  # Generator expression for squares\n",
        "\n",
        "# 3. Use the generator function\n",
        "print(\"Using generator function:\")\n",
        "squares_func = generate_squares(5)  # Create generator object from function\n",
        "for square in squares_func:\n",
        "    print(square)\n",
        "\n",
        "print(\"\\n---\")\n",
        "\n",
        "# 4. Use the generator expression\n",
        "print(\"Using generator expression:\")\n",
        "for square in squares_gen_expr:\n",
        "    print(square)\n",
        "\n",
        "print(\"\\n---\")\n",
        "\n",
        "# 5. Generator for large data (Memory Efficiency)\n",
        "def large_number_generator(n):\n",
        "    for i in range(n):\n",
        "        yield i  # Yield numbers one by one\n",
        "\n",
        "# Using the generator for a large range of numbers\n",
        "print(\"Using generator with large data (up to 20):\")\n",
        "for num in large_number_generator(20):\n",
        "    if num == 10:  # Stop early if we reach 10\n",
        "        print(\"Reached 10, stopping...\")\n",
        "        break\n",
        "    print(num)\n",
        "\n"
      ],
      "metadata": {
        "colab": {
          "base_uri": "https://localhost:8080/"
        },
        "id": "Ovf8f4WsXtWF",
        "outputId": "c605e92f-fb9c-4a2d-ddd5-cb0b5a674ddd"
      },
      "execution_count": null,
      "outputs": [
        {
          "output_type": "stream",
          "name": "stdout",
          "text": [
            "Using generator function:\n",
            "0\n",
            "1\n",
            "4\n",
            "9\n",
            "16\n",
            "\n",
            "---\n",
            "Using generator expression:\n",
            "1\n",
            "4\n",
            "9\n",
            "16\n",
            "25\n",
            "\n",
            "---\n",
            "Using generator with large data (up to 20):\n",
            "0\n",
            "1\n",
            "2\n",
            "3\n",
            "4\n",
            "5\n",
            "6\n",
            "7\n",
            "8\n",
            "9\n",
            "Reached 10, stopping...\n"
          ]
        }
      ]
    },
    {
      "cell_type": "markdown",
      "source": [
        "7. What are the advantages of using generators over regular functions\n",
        "\n",
        "-Memory Efficiency: Generators use less memory by yielding one value at a time instead of storing the entire sequence in memory.\n",
        "\n",
        "Lazy Evaluation: They compute values only when needed, making them more efficient for large datasets or infinite sequences.\n",
        "\n",
        "Handling Infinite Sequences: Generators can handle infinite sequences without consuming infinite memory, unlike regular functions that would require infinite memory.\n",
        "\n",
        "Faster Iteration: Since values are produced on-the-fly, generators are often faster for iterating over large data, as they don’t require creating the entire data structure upfront.\n",
        "\n",
        "Cleaner Code: Generators automatically manage state, leading to simpler, more readable code compared to functions that return large lists or need extra state management.\n",
        "\n",
        "Pipeline Support: Generators are ideal for processing data step-by-step in a pipeline, without needing intermediate storage."
      ],
      "metadata": {
        "id": "Y2C5s7LsX5S9"
      }
    },
    {
      "cell_type": "code",
      "source": [
        "#example\n",
        "\n",
        "# Regular function that returns a list of squares\n",
        "def get_squares(n):\n",
        "    return [i * i for i in range(n)]\n",
        "\n",
        "# Generator function that yields squares one at a time\n",
        "def square_generator(n):\n",
        "    for i in range(n):\n",
        "        yield i * i\n",
        "\n",
        "# Using the regular function\n",
        "print(\"Using regular function (returns list):\")\n",
        "squares = get_squares(5)  # Creates a list in memory\n",
        "print(squares)\n",
        "\n",
        "# Using the generator\n",
        "print(\"\\nUsing generator (yields values one at a time):\")\n",
        "gen = square_generator(5)\n",
        "for square in gen:  # Computes values lazily\n",
        "    print(square)\n"
      ],
      "metadata": {
        "colab": {
          "base_uri": "https://localhost:8080/"
        },
        "id": "yIhY5UCOZFoU",
        "outputId": "b9cf79bf-1788-4815-eb68-d61eb43515d4"
      },
      "execution_count": null,
      "outputs": [
        {
          "output_type": "stream",
          "name": "stdout",
          "text": [
            "Using regular function (returns list):\n",
            "[0, 1, 4, 9, 16]\n",
            "\n",
            "Using generator (yields values one at a time):\n",
            "0\n",
            "1\n",
            "4\n",
            "9\n",
            "16\n"
          ]
        }
      ]
    },
    {
      "cell_type": "markdown",
      "source": [
        "8. What is a lambda function in Python and when is it typically used\n",
        "\n",
        "-A lambda function in Python is an anonymous function that is defined using the lambda keyword instead of def. Lambda functions can have any number of arguments but can only contain a single expression. The result of the expression is automatically returned.\n",
        "\n",
        "When is a Lambda Function Typically Used?\n",
        "\n",
        "Short Functions: Lambda functions are typically used for small, simple functions that are needed for a short duration. They are often passed as arguments to higher-order functions like map(), filter(), and sorted().\n",
        "\n",
        "Inline Function Definition: If you need a simple function that will only be used once (or a few times), defining it with lambda keeps your code concise without needing a full function definition.\n",
        "\n",
        "Functional Programming: They are commonly used in functional programming paradigms, especially with functions like map(), filter(), and reduce(), where you need to pass a small, simple function."
      ],
      "metadata": {
        "id": "89duek8xZU1J"
      }
    },
    {
      "cell_type": "code",
      "source": [
        "#example\n",
        "# A lambda function that adds two numbers\n",
        "add = lambda x, y: x + y\n",
        "\n",
        "# Using the lambda function\n",
        "print(add(3, 4))  # Output: 7\n"
      ],
      "metadata": {
        "colab": {
          "base_uri": "https://localhost:8080/"
        },
        "id": "7S4p7EsZZzJO",
        "outputId": "72caf604-b0a3-4d80-938b-8657a90ddc74"
      },
      "execution_count": null,
      "outputs": [
        {
          "output_type": "stream",
          "name": "stdout",
          "text": [
            "7\n"
          ]
        }
      ]
    },
    {
      "cell_type": "markdown",
      "source": [
        "9. Explain the purpose and usage of the `map()` function in Python\n",
        "\n",
        "-The map() function in Python is used to apply a given function to each item of an iterable (like a list, tuple, etc.) and return a map object (which is an iterator) containing the results. This allows you to transform elements of the iterable in a concise and functional manner.\n"
      ],
      "metadata": {
        "id": "hJONKU6lZ6Uw"
      }
    },
    {
      "cell_type": "code",
      "source": [
        "#example\n",
        "# Regular function to square a number\n",
        "def square(x):\n",
        "    return x * x\n",
        "\n",
        "# List of numbers\n",
        "numbers = [1, 2, 3, 4, 5]\n",
        "\n",
        "# Using map to apply the square function to each element\n",
        "squared_numbers = map(square, numbers)\n",
        "\n",
        "# Convert the map object to a list and print\n",
        "print(list(squared_numbers))  # Output: [1, 4, 9, 16, 25]\n"
      ],
      "metadata": {
        "colab": {
          "base_uri": "https://localhost:8080/"
        },
        "id": "jZEKK7mZaM1V",
        "outputId": "e58b638a-9c0e-46b5-b481-93e41fb089ba"
      },
      "execution_count": null,
      "outputs": [
        {
          "output_type": "stream",
          "name": "stdout",
          "text": [
            "[1, 4, 9, 16, 25]\n"
          ]
        }
      ]
    },
    {
      "cell_type": "markdown",
      "source": [
        " 10. What is the difference between `map()`, `reduce()`, and `filter()` functions in Python?\n",
        "\n",
        " -map(): When you need to transform each element in an iterable. Example: squaring numbers, converting data formats.\n",
        "\n",
        "reduce(): When you want to combine or reduce the elements of an iterable into a single value. Example: summing numbers, calculating the product of a list.\n",
        "\n",
        "filter(): When you need to filter elements based on a condition. Example: extracting even numbers, removing outliers."
      ],
      "metadata": {
        "id": "Ab_U7m8DaTob"
      }
    },
    {
      "cell_type": "code",
      "source": [
        "#example\n",
        "from functools import reduce\n",
        "\n",
        "# List of numbers\n",
        "numbers = [1, 2, 3, 4, 5]\n",
        "\n",
        "# Using map() to square each number\n",
        "squared = map(lambda x: x * x, numbers)\n",
        "\n",
        "# Using filter() to get even numbers\n",
        "even_numbers = filter(lambda x: x % 2 == 0, squared)\n",
        "\n",
        "# Using reduce() to sum the even squares\n",
        "sum_of_even_squares = reduce(lambda x, y: x + y, even_numbers)\n",
        "\n",
        "print(sum_of_even_squares)  # Output: 20 (4 + 16)\n"
      ],
      "metadata": {
        "colab": {
          "base_uri": "https://localhost:8080/"
        },
        "id": "VF8ABIXlakXX",
        "outputId": "60cd55dd-7d44-4980-a7b0-77dac9b07409"
      },
      "execution_count": null,
      "outputs": [
        {
          "output_type": "stream",
          "name": "stdout",
          "text": [
            "20\n"
          ]
        }
      ]
    },
    {
      "cell_type": "markdown",
      "source": [
        "11. Using pen & Paper write the internal mechanism for sum operation using  reduce function on this given\n",
        "list:[47,11,42,13];\n",
        "![WhatsApp Image 2024-12-17 at 3.48.58 AM.jpeg](data:image/jpeg;base64,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)\n"
      ],
      "metadata": {
        "id": "y3Yfw8xDa4C1"
      }
    },
    {
      "cell_type": "code",
      "source": [
        "from functools import reduce\n",
        "result = reduce(lambda x, y: x + y, [47, 11, 42, 13])\n",
        "print(result)"
      ],
      "metadata": {
        "colab": {
          "base_uri": "https://localhost:8080/"
        },
        "id": "cUZg5-sfbcCL",
        "outputId": "3a62f874-f8bc-42f2-b448-c2cd5922e976"
      },
      "execution_count": null,
      "outputs": [
        {
          "output_type": "stream",
          "name": "stdout",
          "text": [
            "113\n"
          ]
        }
      ]
    },
    {
      "cell_type": "markdown",
      "source": [
        "**PRACTICAL** **QUESTIONS**\n"
      ],
      "metadata": {
        "id": "hbyBgfmmawku"
      }
    },
    {
      "cell_type": "code",
      "source": [],
      "metadata": {
        "id": "-2pCWhmMa3qM"
      },
      "execution_count": null,
      "outputs": []
    },
    {
      "cell_type": "markdown",
      "source": [
        " 1. Write a Python function that takes a list of numbers as input and returns the sum of all even numbers in\n",
        "the list\n",
        "\n"
      ],
      "metadata": {
        "id": "h_dMwftea5FL"
      }
    },
    {
      "cell_type": "code",
      "source": [
        "def sum_of_even_numbers(numbers):\n",
        "    # Initialize the sum to 0\n",
        "    sum_even = 0\n",
        "\n",
        "    # Loop through each number in the list\n",
        "    for number in numbers:\n",
        "        # Check if the number is even\n",
        "        if number % 2 == 0:\n",
        "            sum_even += number  # Add even number to the sum\n",
        "\n",
        "    return sum_even\n",
        "numbers = [1, 2, 3, 4, 5, 6]\n",
        "result = sum_of_even_numbers(numbers)\n",
        "print(result)  # Output: 12 (2 + 4 + 6)\n"
      ],
      "metadata": {
        "colab": {
          "base_uri": "https://localhost:8080/"
        },
        "id": "fK9kik3DbTpN",
        "outputId": "e4ac1449-221c-474c-955d-d42a1dbd12f8"
      },
      "execution_count": 1,
      "outputs": [
        {
          "output_type": "stream",
          "name": "stdout",
          "text": [
            "12\n"
          ]
        }
      ]
    },
    {
      "cell_type": "markdown",
      "source": [
        "2. Create a Python function that accepts a string and returns the reverse of that string\n"
      ],
      "metadata": {
        "id": "0hMpg-ssbfes"
      }
    },
    {
      "cell_type": "code",
      "source": [
        "def reverse_string(input_string):\n",
        "    # Return the reversed string\n",
        "    return input_string[::-1]\n",
        "input_string = \"hello\"\n",
        "result = reverse_string(input_string)\n",
        "print(result)  # Output: \"olleh\"\n"
      ],
      "metadata": {
        "colab": {
          "base_uri": "https://localhost:8080/"
        },
        "id": "BlOFmaH6bqIp",
        "outputId": "025f7a8c-3228-431a-ab01-f53d84414d24"
      },
      "execution_count": 2,
      "outputs": [
        {
          "output_type": "stream",
          "name": "stdout",
          "text": [
            "olleh\n"
          ]
        }
      ]
    },
    {
      "cell_type": "markdown",
      "source": [
        " 3. Implement a Python function that takes a list of integers and returns a new list containing the squares of\n",
        "each number.\n"
      ],
      "metadata": {
        "id": "2yLTg16pbyXW"
      }
    },
    {
      "cell_type": "code",
      "source": [
        "def square_numbers(numbers):\n",
        "    # Use a list comprehension to square each number in the list\n",
        "    return [number ** 2 for number in numbers]\n",
        "numbers = [1, 2, 3, 4, 5]\n",
        "result = square_numbers(numbers)\n",
        "print(result)  # Output: [1, 4, 9, 16, 25]\n"
      ],
      "metadata": {
        "colab": {
          "base_uri": "https://localhost:8080/"
        },
        "id": "drq8y1Cvbz6n",
        "outputId": "117d668a-cc43-42bf-afa7-c7b141f012d1"
      },
      "execution_count": 3,
      "outputs": [
        {
          "output_type": "stream",
          "name": "stdout",
          "text": [
            "[1, 4, 9, 16, 25]\n"
          ]
        }
      ]
    },
    {
      "cell_type": "markdown",
      "source": [
        "4. Write a Python function that checks if a given number is prime or not from 1 to 200"
      ],
      "metadata": {
        "id": "aBoC3il0cAZo"
      }
    },
    {
      "cell_type": "code",
      "source": [
        "def is_prime(number):\n",
        "    # Numbers less than 2 are not prime\n",
        "    if number < 2:\n",
        "        return False\n",
        "\n",
        "    # Check divisibility from 2 to the square root of the number\n",
        "    for i in range(2, int(number ** 0.5) + 1):\n",
        "        if number % i == 0:\n",
        "            return False  # Found a divisor, so the number is not prime\n",
        "\n",
        "    return True  # No divisors found, the number is prime\n",
        "for num in range(1, 201):\n",
        "    if is_prime(num):\n",
        "        print(num)  # This will print all prime numbers from 1 to 200\n"
      ],
      "metadata": {
        "colab": {
          "base_uri": "https://localhost:8080/"
        },
        "id": "qa3tZxLKcHW8",
        "outputId": "deff3cb9-9408-4e2e-84fe-dc860e4b66b3"
      },
      "execution_count": 4,
      "outputs": [
        {
          "output_type": "stream",
          "name": "stdout",
          "text": [
            "2\n",
            "3\n",
            "5\n",
            "7\n",
            "11\n",
            "13\n",
            "17\n",
            "19\n",
            "23\n",
            "29\n",
            "31\n",
            "37\n",
            "41\n",
            "43\n",
            "47\n",
            "53\n",
            "59\n",
            "61\n",
            "67\n",
            "71\n",
            "73\n",
            "79\n",
            "83\n",
            "89\n",
            "97\n",
            "101\n",
            "103\n",
            "107\n",
            "109\n",
            "113\n",
            "127\n",
            "131\n",
            "137\n",
            "139\n",
            "149\n",
            "151\n",
            "157\n",
            "163\n",
            "167\n",
            "173\n",
            "179\n",
            "181\n",
            "191\n",
            "193\n",
            "197\n",
            "199\n"
          ]
        }
      ]
    },
    {
      "cell_type": "markdown",
      "source": [
        " 5. Create an iterator class in Python that generates the Fibonacci sequence up to a specified number of\n",
        "terms"
      ],
      "metadata": {
        "id": "YM6chdUUcQ_O"
      }
    },
    {
      "cell_type": "code",
      "source": [
        "class FibonacciIterator:\n",
        "    def __init__(self, n):\n",
        "        # Initialize the number of terms to generate in the Fibonacci sequence\n",
        "        self.n = n\n",
        "        self.a, self.b = 0, 1  # Starting values for Fibonacci sequence\n",
        "        self.count = 0  # To keep track of the number of terms generated\n",
        "\n",
        "    def __iter__(self):\n",
        "        # The __iter__ method returns the iterator object itself\n",
        "        return self\n",
        "\n",
        "    def __next__(self):\n",
        "        # If we've reached the specified number of terms, stop the iteration\n",
        "        if self.count >= self.n:\n",
        "            raise StopIteration\n",
        "\n",
        "        # Return the current Fibonacci number and update the values of a and b\n",
        "        current_value = self.a\n",
        "        self.a, self.b = self.b, self.a + self.b\n",
        "        self.count += 1\n",
        "        return current_value\n",
        "fibonacci = FibonacciIterator(10)  # Generate the first 10 Fibonacci numbers\n",
        "\n",
        "for num in fibonacci:\n",
        "    print(num)  # Prints the Fibonacci sequence up to the 10th term\n"
      ],
      "metadata": {
        "colab": {
          "base_uri": "https://localhost:8080/"
        },
        "id": "ecUroO-tcZMt",
        "outputId": "beec21ef-7ba2-4cce-baaf-1a695f3778f8"
      },
      "execution_count": 5,
      "outputs": [
        {
          "output_type": "stream",
          "name": "stdout",
          "text": [
            "0\n",
            "1\n",
            "1\n",
            "2\n",
            "3\n",
            "5\n",
            "8\n",
            "13\n",
            "21\n",
            "34\n"
          ]
        }
      ]
    },
    {
      "cell_type": "markdown",
      "source": [
        "6. Write a generator function in Python that yields the powers of 2 up to a given exponent"
      ],
      "metadata": {
        "id": "4uy6uRA5crze"
      }
    },
    {
      "cell_type": "code",
      "source": [
        "def powers_of_two(exponent):\n",
        "    for i in range(exponent + 1):\n",
        "        yield 2 ** i\n",
        "# Generate powers of 2 up to 2^5\n",
        "for power in powers_of_two(5):\n",
        "    print(power)\n"
      ],
      "metadata": {
        "colab": {
          "base_uri": "https://localhost:8080/"
        },
        "id": "bROzfib2cwMa",
        "outputId": "872d5796-ba77-43ab-b273-82e7348e976f"
      },
      "execution_count": 6,
      "outputs": [
        {
          "output_type": "stream",
          "name": "stdout",
          "text": [
            "1\n",
            "2\n",
            "4\n",
            "8\n",
            "16\n",
            "32\n"
          ]
        }
      ]
    },
    {
      "cell_type": "markdown",
      "source": [
        "7. Implement a generator function that reads a file line by line and yields each line as a string."
      ],
      "metadata": {
        "id": "NbM9Z9KxdNML"
      }
    },
    {
      "cell_type": "code",
      "source": [
        "def read_file_line_by_line(file_path):\n",
        "    try:\n",
        "        with open(file_path, 'r') as file:\n",
        "            for line in file:\n",
        "                yield line.strip()\n",
        "    except FileNotFoundError:\n",
        "        print(f\"Error: The file at '{file_path}' was not found.\")\n",
        "    except IOError:\n",
        "        print(f\"Error: An I/O error occurred while accessing the file at '{file_path}'.\")\n",
        "\n",
        "# Example usage:\n",
        "file_path = 'example.txt'\n",
        "for line in read_file_line_by_line(file_path):\n",
        "    print(line)\n"
      ],
      "metadata": {
        "colab": {
          "base_uri": "https://localhost:8080/"
        },
        "id": "MTnB4zNvnIE1",
        "outputId": "b7d21880-b36b-420a-d12d-566bff5ca757"
      },
      "execution_count": 31,
      "outputs": [
        {
          "output_type": "stream",
          "name": "stdout",
          "text": [
            "Error: The file at 'example.txt' was not found.\n"
          ]
        }
      ]
    },
    {
      "cell_type": "markdown",
      "source": [
        " 8. Use a lambda function in Python to sort a list of tuples based on the second element of each tuple."
      ],
      "metadata": {
        "id": "AazaqSnZlU-T"
      }
    },
    {
      "cell_type": "code",
      "source": [
        "# List of tuples\n",
        "tuples_list = [(1, 3), (2, 2), (3, 1), (4, 4)]\n",
        "\n",
        "# Sort the list of tuples based on the second element using a lambda function\n",
        "sorted_list = sorted(tuples_list, key=lambda x: x[1])\n",
        "\n",
        "print(sorted_list)\n"
      ],
      "metadata": {
        "colab": {
          "base_uri": "https://localhost:8080/"
        },
        "id": "wHS9TmN8laWi",
        "outputId": "4cb5f376-a5b3-4eab-c81a-eb4fc5abfced"
      },
      "execution_count": 23,
      "outputs": [
        {
          "output_type": "stream",
          "name": "stdout",
          "text": [
            "[(3, 1), (2, 2), (1, 3), (4, 4)]\n"
          ]
        }
      ]
    },
    {
      "cell_type": "markdown",
      "source": [
        " 9. Write a Python program that uses `map()` to convert a list of temperatures from Celsius to Fahrenheit"
      ],
      "metadata": {
        "id": "TwpnqUUuljSR"
      }
    },
    {
      "cell_type": "code",
      "source": [
        "# List of temperatures in Celsius\n",
        "celsius_temperatures = [0, 20, 30, 40, 100]\n",
        "\n",
        "# Function to convert Celsius to Fahrenheit\n",
        "def celsius_to_fahrenheit(celsius):\n",
        "    return (celsius * 9/5) + 32\n",
        "\n",
        "# Use map to apply the conversion function to each element in the list\n",
        "fahrenheit_temperatures = list(map(celsius_to_fahrenheit, celsius_temperatures))\n",
        "\n",
        "# Print the result\n",
        "print(fahrenheit_temperatures)\n"
      ],
      "metadata": {
        "colab": {
          "base_uri": "https://localhost:8080/"
        },
        "id": "ANqPv8IClmuo",
        "outputId": "e7c7f697-d73d-4123-f706-4289fe53e7dd"
      },
      "execution_count": 24,
      "outputs": [
        {
          "output_type": "stream",
          "name": "stdout",
          "text": [
            "[32.0, 68.0, 86.0, 104.0, 212.0]\n"
          ]
        }
      ]
    },
    {
      "cell_type": "markdown",
      "source": [
        " 10. Create a Python program that uses `filter()` to remove all the vowels from a given string"
      ],
      "metadata": {
        "id": "wywrtfc5lskA"
      }
    },
    {
      "cell_type": "code",
      "source": [
        "# Function to check if a character is a vowel\n",
        "def is_not_vowel(char):\n",
        "    vowels = \"aeiouAEIOU\"\n",
        "    return char not in vowels\n",
        "\n",
        "# Input string\n",
        "input_string = \"Hello World!\"\n",
        "\n",
        "# Use filter to remove vowels from the string\n",
        "filtered_string = ''.join(filter(is_not_vowel, input_string))\n",
        "\n",
        "# Print the result\n",
        "print(filtered_string)\n"
      ],
      "metadata": {
        "colab": {
          "base_uri": "https://localhost:8080/"
        },
        "id": "K8Wnvkpslykk",
        "outputId": "182b370e-3fc5-4be8-ac21-acfb8db6f892"
      },
      "execution_count": 25,
      "outputs": [
        {
          "output_type": "stream",
          "name": "stdout",
          "text": [
            "Hll Wrld!\n"
          ]
        }
      ]
    },
    {
      "cell_type": "markdown",
      "source": [
        "11)Imagine an accounting routine used in a book shop. It works on a list with sublists, which look like this:\n",
        " Write a Python program, which returns a list with 2-tuples. Each tuple consists of the order number and the\n",
        "product of the price per item and the quantity. The product should be increased by 10,- € if the value of the\n",
        "order is smaller than 100,00 €.\n",
        " Write a Python program using lambda and map"
      ],
      "metadata": {
        "id": "zwtwlXKVmMi0"
      }
    },
    {
      "cell_type": "code",
      "source": [
        "# Sample list of orders\n",
        "orders = [\n",
        "    [34587, 'Learning Python', 4, 40.95],\n",
        "    [98762, 'Programming Python', 5, 56.80],\n",
        "    [77226, 'Head First Python', 3, 32.95],\n",
        "    [88112, 'Einführung in Python3', 3, 24.99]\n",
        "]\n",
        "\n",
        "# Function to calculate the total price\n",
        "calculate_total = lambda order: (order[0], order[2] * order[3] + 10 if order[2] * order[3] < 100 else order[2] * order[3])\n",
        "\n",
        "# Applying the function to the list of orders\n",
        "result = list(map(calculate_total, orders))\n",
        "\n",
        "print(result)\n"
      ],
      "metadata": {
        "colab": {
          "base_uri": "https://localhost:8080/"
        },
        "id": "SzBc8Zw3mJwd",
        "outputId": "e091ff55-dbd8-4e53-9f53-68f0eec87725"
      },
      "execution_count": 26,
      "outputs": [
        {
          "output_type": "stream",
          "name": "stdout",
          "text": [
            "[(34587, 163.8), (98762, 284.0), (77226, 108.85000000000001), (88112, 84.97)]\n"
          ]
        }
      ]
    }
  ]
}